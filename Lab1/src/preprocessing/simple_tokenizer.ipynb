{
 "cells": [
  {
   "cell_type": "code",
   "execution_count": 13,
   "id": "d78f61f3",
   "metadata": {},
   "outputs": [],
   "source": [
    "import os\n",
    "import sys\n",
    "import re\n",
    "# Lấy đường dẫn thư mục cha của notebook\n",
    "current_dir = (\n",
    "    os.path.dirname(os.path.abspath(__file__))\n",
    "    if \"__file__\" in globals()\n",
    "    else os.getcwd()\n",
    ")\n",
    "data_path = os.path.abspath(os.path.join(current_dir, \"..\", \"core\"))\n",
    "\n",
    "# Thêm vào sys.path\n",
    "sys.path.append(data_path)\n",
    "from interfaces import Tokenizer"
   ]
  },
  {
   "cell_type": "code",
   "execution_count": 14,
   "id": "db1d30c9",
   "metadata": {},
   "outputs": [],
   "source": [
    "class SimpleTokenizer(Tokenizer):\n",
    "\n",
    "    def tokenize(self, text: str):\n",
    "        '''\n",
    "        - Convert the text to lowercase.\n",
    "        - Split the text into tokens based on whitespace.\n",
    "        - Handle basic punctuation (e.g., . , ? !) by splitting them from words.\n",
    "        '''\n",
    "        result = text.lower().strip()\n",
    "        result = re.findall(r'[,,?!]', text, re.UNICODE)\n",
    "        return result\n"
   ]
  },
  {
   "cell_type": "code",
   "execution_count": 15,
   "id": "14488680",
   "metadata": {},
   "outputs": [
    {
     "data": {
      "text/plain": [
       "[',']"
      ]
     },
     "execution_count": 15,
     "metadata": {},
     "output_type": "execute_result"
    }
   ],
   "source": [
    "simp = SimpleTokenizer()\n",
    "simp.tokenize('Hello, world')"
   ]
  },
  {
   "cell_type": "code",
   "execution_count": 6,
   "id": "f09ac01c",
   "metadata": {},
   "outputs": [
    {
     "data": {
      "text/plain": [
       "'bkajf'"
      ]
     },
     "execution_count": 6,
     "metadata": {},
     "output_type": "execute_result"
    }
   ],
   "source": [
    "'Bkajf'.lower()"
   ]
  }
 ],
 "metadata": {
  "kernelspec": {
   "display_name": ".venv",
   "language": "python",
   "name": "python3"
  },
  "language_info": {
   "codemirror_mode": {
    "name": "ipython",
    "version": 3
   },
   "file_extension": ".py",
   "mimetype": "text/x-python",
   "name": "python",
   "nbconvert_exporter": "python",
   "pygments_lexer": "ipython3",
   "version": "3.11.10"
  }
 },
 "nbformat": 4,
 "nbformat_minor": 5
}
